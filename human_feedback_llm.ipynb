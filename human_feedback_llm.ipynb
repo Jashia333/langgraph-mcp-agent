{
 "cells": [
  {
   "cell_type": "code",
   "execution_count": 15,
   "id": "fa054bd1",
   "metadata": {},
   "outputs": [
    {
     "data": {
      "text/plain": [
       "True"
      ]
     },
     "execution_count": 15,
     "metadata": {},
     "output_type": "execute_result"
    }
   ],
   "source": [
    "from langgraph.graph import StateGraph, START, END\n",
    "from langgraph.graph.message import add_messages\n",
    "from langgraph.checkpoint.memory import MemorySaver\n",
    "from langgraph.prebuilt import ToolNode,tools_condition\n",
    "from langgraph.types import interrupt,Command\n",
    "\n",
    "from langchain.chat_models import init_chat_model\n",
    "from langchain_tavily import TavilySearch\n",
    "\n",
    "from typing import Annotated\n",
    "from typing_extensions import TypedDict\n",
    "\n",
    "from dotenv import load_dotenv\n",
    "load_dotenv()"
   ]
  },
  {
   "cell_type": "code",
   "execution_count": 38,
   "id": "dadd9d92",
   "metadata": {},
   "outputs": [],
   "source": [
    "def start_session(thread_id):\n",
    "    config={\n",
    "        \"configurable\":{\n",
    "            \"thread_id\":thread_id\n",
    "        }\n",
    "    }\n",
    "\n",
    "    return config"
   ]
  },
  {
   "cell_type": "code",
   "execution_count": 16,
   "id": "1685ae23",
   "metadata": {},
   "outputs": [],
   "source": [
    "class state_msg(TypedDict):\n",
    "    messages:Annotated[list,add_messages]"
   ]
  },
  {
   "cell_type": "code",
   "execution_count": 17,
   "id": "c4468018",
   "metadata": {},
   "outputs": [
    {
     "data": {
      "text/plain": [
       "ChatGroq(client=<groq.resources.chat.completions.Completions object at 0x0000014955ECA3D0>, async_client=<groq.resources.chat.completions.AsyncCompletions object at 0x0000014955EBF5D0>, model_name='llama3-8b-8192', model_kwargs={}, groq_api_key=SecretStr('**********'))"
      ]
     },
     "execution_count": 17,
     "metadata": {},
     "output_type": "execute_result"
    }
   ],
   "source": [
    "groq_llm=init_chat_model(\"groq:llama3-8b-8192\")\n",
    "groq_llm"
   ]
  },
  {
   "cell_type": "code",
   "execution_count": 112,
   "id": "24489976",
   "metadata": {},
   "outputs": [],
   "source": [
    "tavily_search=TavilySearch(max_result=2)"
   ]
  },
  {
   "cell_type": "code",
   "execution_count": 113,
   "id": "06f70988",
   "metadata": {},
   "outputs": [],
   "source": [
    "def human_assistance(query: str) -> str:\n",
    "    \"\"\" request human assistance for a query \n",
    "    whenever the user asks for any guidance or specialist of AI\n",
    "\n",
    "    \"\"\"\n",
    "    human_response = interrupt({\"query\": query})\n",
    "    return human_response[\"data\"]"
   ]
  },
  {
   "cell_type": "code",
   "execution_count": 114,
   "id": "e75a4519",
   "metadata": {},
   "outputs": [],
   "source": [
    "tools_used=[tavily_search,human_assistance]\n",
    "llm_with_human_assistance=groq_llm.bind_tools(tools_used)"
   ]
  },
  {
   "cell_type": "markdown",
   "id": "53fb6225",
   "metadata": {},
   "source": [
    "#### When using bind_tools(...), the only thing the model sees about your tool is:\n",
    "\n",
    "#### the tool name (like human_assistance)\n",
    "\n",
    "#### the docstring as a natural language description"
   ]
  },
  {
   "cell_type": "code",
   "execution_count": 115,
   "id": "64915c8a",
   "metadata": {},
   "outputs": [],
   "source": [
    "def human_assistance_calling(state:state_msg):\n",
    "    response= llm_with_human_assistance.invoke(\n",
    "        state[\"messages\"])\n",
    "    return {\"messages\": [response]+state[\"messages\"]}"
   ]
  },
  {
   "cell_type": "code",
   "execution_count": 138,
   "id": "af375056",
   "metadata": {},
   "outputs": [
    {
     "data": {
      "image/png": "[encoded data removed]",
      "text/plain": [
       "<langgraph.graph.state.CompiledStateGraph object at 0x000001495A6E6010>"
      ]
     },
     "execution_count": 138,
     "metadata": {},
     "output_type": "execute_result"
    }
   ],
   "source": [
    "human_feedback_graph = StateGraph(state_msg)\n",
    "memory=MemorySaver()\n",
    "\n",
    "human_feedback_graph.add_node(\"human_assistance_llm\",\n",
    "    human_assistance_calling)\n",
    "human_feedback_graph.add_node(\"tools\",ToolNode(tools_used))\n",
    "\n",
    "human_feedback_graph.add_edge(START, \"human_assistance_llm\")\n",
    "human_feedback_graph.add_conditional_edges(\n",
    "    \"human_assistance_llm\",tools_condition)\n",
    "human_feedback_graph.add_edge(\"tools\", END)\n",
    "\n",
    "human_feedback_llm=human_feedback_graph.compile(checkpointer=memory)\n",
    "human_feedback_llm"
   ]
  },
  {
   "cell_type": "code",
   "execution_count": 143,
   "id": "9a656673",
   "metadata": {},
   "outputs": [
    {
     "name": "stdout",
     "output_type": "stream",
     "text": [
      "{'messages': [HumanMessage(content='I need help from a real AI expert. Can you ask someone to assist me?', additional_kwargs={}, response_metadata={}, id='f602ba73-7bd0-4a01-85e1-43ab084bebe7'), AIMessage(content='', additional_kwargs={'tool_calls': [{'id': 't5thawjtf', 'function': {'arguments': '{\"query\":\"I need help from a real AI expert. Can you ask someone to assist me?\"}', 'name': 'human_assistance'}, 'type': 'function'}]}, response_metadata={'token_usage': {'completion_tokens': 82, 'prompt_tokens': 2188, 'total_tokens': 2270, 'completion_time': 0.104175824, 'prompt_time': 0.247486845, 'queue_time': 0.070268035, 'total_time': 0.351662669}, 'model_name': 'llama3-8b-8192', 'system_fingerprint': 'fp_6d1c2b0784', 'finish_reason': 'tool_calls', 'logprobs': None}, id='run--b00cde05-a234-4a7f-8cf8-4c4e836b6a39-0', tool_calls=[{'name': 'human_assistance', 'args': {'query': 'I need help from a real AI expert. Can you ask someone to assist me?'}, 'id': 't5thawjtf', 'type': 'tool_call'}], usage_metadata={'input_tokens': 2188, 'output_tokens': 82, 'total_tokens': 2270})], '__interrupt__': [Interrupt(value={'query': 'I need help from a real AI expert. Can you ask someone to assist me?'}, resumable=True, ns=['tools:3bbadd3a-89b3-d5bb-0ca0-3d88dae422fe'])]}\n"
     ]
    }
   ],
   "source": [
    "user_input=\"I need help from a real AI expert. Can you ask someone to assist me?\"\n",
    "config=start_session(90)\n",
    "\n",
    "events=human_feedback_llm.invoke(\n",
    "    {\"messages\":[user_input]},\n",
    "    config=config,\n",
    "    stream_mode=\"values\"\n",
    ")\n",
    "print(events)\n",
    "        "
   ]
  },
  {
   "cell_type": "code",
   "execution_count": 144,
   "id": "f422426f",
   "metadata": {},
   "outputs": [
    {
     "name": "stdout",
     "output_type": "stream",
     "text": [
      "================================\u001b[1m Human Message \u001b[0m=================================\n",
      "\n",
      "I need help from a real AI expert. Can you ask someone to assist me?\n",
      "==================================\u001b[1m Ai Message \u001b[0m==================================\n",
      "Tool Calls:\n",
      "  human_assistance (t5thawjtf)\n",
      " Call ID: t5thawjtf\n",
      "  Args:\n",
      "    query: I need help from a real AI expert. Can you ask someone to assist me?\n"
     ]
    }
   ],
   "source": [
    "for msg in events['messages']:\n",
    "    msg.pretty_print()"
   ]
  },
  {
   "cell_type": "code",
   "execution_count": 145,
   "id": "44d0c3fd",
   "metadata": {},
   "outputs": [
    {
     "name": "stdout",
     "output_type": "stream",
     "text": [
      "==================================\u001b[1m Ai Message \u001b[0m==================================\n",
      "Tool Calls:\n",
      "  human_assistance (t5thawjtf)\n",
      " Call ID: t5thawjtf\n",
      "  Args:\n",
      "    query: I need help from a real AI expert. Can you ask someone to assist me?\n",
      "=================================\u001b[1m Tool Message \u001b[0m=================================\n",
      "Name: human_assistance\n",
      "\n",
      "We, the experts are here to help! We'd recommend you check out LangGraph to build your agent. It's much more reliable and extensible than simple autonomous agents.\n"
     ]
    }
   ],
   "source": [
    "human_response = (\n",
    "    \"We, the experts are here to help! We'd recommend you check out LangGraph to build your agent.\"\n",
    "    \" It's much more reliable and extensible than simple autonomous agents.\"\n",
    ")\n",
    "\n",
    "human_command = Command(resume={\"data\": human_response})\n",
    "\n",
    "events = human_feedback_llm.stream(human_command, config, stream_mode=\"values\")\n",
    "\n",
    "for event in events:\n",
    "    if \"messages\" in event:\n",
    "        event[\"messages\"][-1].pretty_print()\n",
    "\n"
   ]
  },
  {
   "cell_type": "code",
   "execution_count": 146,
   "id": "659e5fb1",
   "metadata": {},
   "outputs": [
    {
     "name": "stdout",
     "output_type": "stream",
     "text": [
      "{'messages': [HumanMessage(content='I need help from a real AI expert. Can you ask someone to assist me?', additional_kwargs={}, response_metadata={}, id='f602ba73-7bd0-4a01-85e1-43ab084bebe7'), AIMessage(content='', additional_kwargs={'tool_calls': [{'id': 't5thawjtf', 'function': {'arguments': '{\"query\":\"I need help from a real AI expert. Can you ask someone to assist me?\"}', 'name': 'human_assistance'}, 'type': 'function'}]}, response_metadata={'token_usage': {'completion_tokens': 82, 'prompt_tokens': 2188, 'total_tokens': 2270, 'completion_time': 0.104175824, 'prompt_time': 0.247486845, 'queue_time': 0.070268035, 'total_time': 0.351662669}, 'model_name': 'llama3-8b-8192', 'system_fingerprint': 'fp_6d1c2b0784', 'finish_reason': 'tool_calls', 'logprobs': None}, id='run--b00cde05-a234-4a7f-8cf8-4c4e836b6a39-0', tool_calls=[{'name': 'human_assistance', 'args': {'query': 'I need help from a real AI expert. Can you ask someone to assist me?'}, 'id': 't5thawjtf', 'type': 'tool_call'}], usage_metadata={'input_tokens': 2188, 'output_tokens': 82, 'total_tokens': 2270}), ToolMessage(content=\"We, the experts are here to help! We'd recommend you check out LangGraph to build your agent. It's much more reliable and extensible than simple autonomous agents.\", name='human_assistance', id='fc7c8ca4-93ca-40c3-9f09-d7730a15e775', tool_call_id='t5thawjtf'), HumanMessage(content='thanks  i wwant to knw the difference between langsmith adn langcgain', additional_kwargs={}, response_metadata={}, id='daa1985e-6450-42c2-a79a-659c869c79fe'), AIMessage(content='', additional_kwargs={'tool_calls': [{'id': '3pfvqekm0', 'function': {'arguments': '{\"query\":\"difference between langsmith and langgain\"}', 'name': 'tavily_search'}, 'type': 'function'}]}, response_metadata={'token_usage': {'completion_tokens': 90, 'prompt_tokens': 2334, 'total_tokens': 2424, 'completion_time': 0.119195106, 'prompt_time': 0.258389863, 'queue_time': 0.07868918600000002, 'total_time': 0.377584969}, 'model_name': 'llama3-8b-8192', 'system_fingerprint': 'fp_2717d04279', 'finish_reason': 'tool_calls', 'logprobs': None}, id='run--947639c2-f3fe-44ed-a9d0-7f2ef4663b75-0', tool_calls=[{'name': 'tavily_search', 'args': {'query': 'difference between langsmith and langgain'}, 'id': '3pfvqekm0', 'type': 'tool_call'}], usage_metadata={'input_tokens': 2334, 'output_tokens': 90, 'total_tokens': 2424}), ToolMessage(content='{\"query\": \"difference between langsmith and langgain\", \"follow_up_questions\": null, \"answer\": null, \"images\": [], \"results\": [{\"url\": \"https://medium.com/data-scientists-diary/langchain-vs-langsmith-1b525afd2098\", \"title\": \"Langchain vs Langsmith - Data Scientist\\'s Diary - Medium\", \"content\": \"If you’re responsible for ensuring your AI models work in production, or you need to frequently debug and monitor your pipelines, Langsmith is your go-to tool. In short, while **Langchain** excels at managing and scaling model workflows, **Langsmith** is designed for those times when you need deep visibility and control over large, complex AI systems in production. If you’re debugging complex AI models or managing large-scale workflows with multiple moving parts, **Langsmith’s advanced debugging and orchestration features** will be indispensable. Additionally, if you’re working on **cross-platform model deployments** — say, running models on-prem and in the cloud simultaneously — Langsmith offers better orchestration and monitoring tools to handle the complexity.\", \"score\": 0.8358192, \"raw_content\": null}, {\"url\": \"https://blog.gopenai.com/langchain-vs-langsmith-understanding-the-differences-pros-and-cons-a18cff9b31f0\", \"title\": \"LangChain vs LangSmith: Understanding the Differences, Pros, and ...\", \"content\": \"LangChain vs LangSmith: Understanding the Differences, Pros, and Cons | by Ajay Verma | GoPenAI LangChain and LangSmith are two powerful tools developed by LangChain, a company focused on making it easier to build and deploy Large Language Model (LLM) applications. In this blog, we’ll delve into the differences between LangChain and LangSmith, their pros and cons, and when to use each one. Comprehensive Platform: LangSmith offers a unified platform for managing all aspects of LLM development, making it ideal for large-scale, production-ready applications. LangChain and LangSmith are two complementary tools that cater to different stages and requirements of LLM development. LangChain is ideal for early-stage prototyping and small-scale applications, while LangSmith is better suited for large-scale, production-ready applications that require advanced debugging, testing, and monitoring capabilities.\", \"score\": 0.8266142, \"raw_content\": null}, {\"url\": \"https://www.youtube.com/watch?v=ldBsvhjEREc&pp=0gcJCWIABgo59PVc\", \"title\": \"LangGraph vs LangChain vs LangFlow vs LangSmith - YouTube\", \"content\": \"LangGraph vs LangChain vs LangFlow vs LangSmith : Which One To Use & Why?\\\\nFuturMinds\\\\n8950 subscribers\\\\n2079 likes\\\\n55003 views\\\\n22 Aug 2024\\\\nAre you curious about the differences between LangChain, Langflow, Langgraph, and Langsmith? In this video, I’ll explain what is LangChain, what is Langflow, what is Langgraph, and what is Langsmith, breaking down each tool’s features, use cases, and why they were created.\\\\n\\\\nWe’ll explore what Langsmith is used for and how it integrates with LangChain for monitoring and debugging workflows. Learn how Langgraph simplifies agent management and discover the differences in Langchain vs Langgraph and Langgraph vs Langchain for building AI applications. I also cover the Langchain vs Langflow comparison, showing how Langflow’s visual interface can speed up prototyping for non-coders.\\\\n\\\\nIf you’re wondering about Langchain vs Langsmith, this video also breaks down how Langsmith helps in tracking and optimizing your applications. Whether you’re a developer or just starting with AI workflows, this video will clear up the confusion around these tools, helping you understand which one to choose for your next project.\\\\n\\\\n📌 Timestamps:\\\\n00:00 Intro\\\\n00:40 LangChain (What, Why, How)\\\\n03:40 LangGraph (What, Why, How)\\\\n05:37 LangFlow (What, Why, How)\\\\n07:11 LangSmith (What, Why, How)\\\\n14:10 What\\'s Next?\\\\n74 comments\\\\n\", \"score\": 0.6429039, \"raw_content\": null}, {\"url\": \"https://www.youtube.com/watch?v=vJOGC8QJZJQ\", \"title\": \"LangChain vs LangGraph vs LangSmith - YouTube\", \"content\": \"LangChain vs LangGraph vs LangSmith\\\\ncodebasics\\\\n1310000 subscribers\\\\n234 likes\\\\n9419 views\\\\n2 Jul 2025\\\\nIn this video, we will understand the difference between LangChain, LangGraph and LangSmith. They are part of the same echo system serving slightly different purpose.\\\\n\\\\nLanggraph crash course: https://youtu.be/CnXdddeZ4tQ\\\\nLangchain crash course: https://youtu.be/nAmC7SoVLd8\\\\n\\\\nDo you want to learn technology from me? Check https://codebasics.io/?utm_source=description&utm_medium=yt&utm_campaign=description&utm_id=description for my affordable video courses.\\\\n\\\\nNeed help building software or data analytics/AI solutions? My company https://www.atliq.com/ can help. Click on the Contact button on that website.\\\\n\\\\n🎥 Codebasics Hindi channel: https://www.youtube.com/channel/UCTmFBhuhMibVoSfYom1uXEg\\\\n\\\\n#️⃣ Social Media #️⃣\\\\n\\\\n🧑\\u200d🤝\\u200d🧑 Discord for Community Support:  https://discord.gg/r42Kbuk\\\\n📸 Codebasics\\' Instagram: https://www.instagram.com/codebasicshub/\\\\n📝 Codebasics\\' Linkedin :  https://www.linkedin.com/company/codebasics/\\\\n\\\\n------\\\\n\\\\n📝 Dhaval\\'s Linkedin : https://www.linkedin.com/in/dhavalsays/\\\\n📝 Hem\\'s Linkedin: https://www.linkedin.com/in/hemvad/\\\\n\\\\n📽️ Hem\\'s Instagram for daily tips: https://www.instagram.com/hemvadivel/\\\\n📸 Dhaval\\'s Personal Instagram: https://www.instagram.com/dhavalsays/\\\\n\\\\n🔗 Patreon: https://www.patreon.com/codebasics?fan_landing=true\\\\n12 comments\\\\n\", \"score\": 0.6216563, \"raw_content\": null}, {\"url\": \"https://www.langchain.com/langsmith\", \"title\": \"LangSmith - LangChain\", \"content\": \"LangSmith Performance cookies are used to understand and analyze the key performance indexes of the website which helps in delivering a better user experience for the visitors. LangSmith is a unified observability & evals platform where teams can debug, test, and monitor AI app performance — whether building with LangChain or not. Evaluate your app by saving production traces to datasets — then score performance with LLM-as-Judge evaluators. LangSmith traces contain the full information of all the inputs and outputs of each step of the application, giving users full visibility into their agent or LLM app behavior. LangSmith also allows users to instantly run evals to assess agent or LLM app performance — including LLM-as-Judge evaluators for auto-scoring and the ability to attach human feedback.\", \"score\": 0.5835125, \"raw_content\": null}], \"response_time\": 1.78}', name='tavily_search', id='52e15977-67fe-47f4-9687-890292cf200f', tool_call_id='3pfvqekm0')]}\n"
     ]
    }
   ],
   "source": [
    "user_input=\"thanks  i wwant to knw the difference between langsmith adn langcgain\"\n",
    "\n",
    "\n",
    "events=human_feedback_llm.invoke(\n",
    "    {\"messages\":[user_input]},\n",
    "    config=config,\n",
    "    stream_mode=\"values\"\n",
    ")\n",
    "print(events)\n",
    "        "
   ]
  },
  {
   "cell_type": "code",
   "execution_count": 147,
   "id": "68a44143",
   "metadata": {},
   "outputs": [
    {
     "name": "stdout",
     "output_type": "stream",
     "text": [
      "================================\u001b[1m Human Message \u001b[0m=================================\n",
      "\n",
      "I need help from a real AI expert. Can you ask someone to assist me?\n",
      "==================================\u001b[1m Ai Message \u001b[0m==================================\n",
      "Tool Calls:\n",
      "  human_assistance (t5thawjtf)\n",
      " Call ID: t5thawjtf\n",
      "  Args:\n",
      "    query: I need help from a real AI expert. Can you ask someone to assist me?\n",
      "=================================\u001b[1m Tool Message \u001b[0m=================================\n",
      "Name: human_assistance\n",
      "\n",
      "We, the experts are here to help! We'd recommend you check out LangGraph to build your agent. It's much more reliable and extensible than simple autonomous agents.\n",
      "================================\u001b[1m Human Message \u001b[0m=================================\n",
      "\n",
      "thanks  i wwant to knw the difference between langsmith adn langcgain\n",
      "==================================\u001b[1m Ai Message \u001b[0m==================================\n",
      "Tool Calls:\n",
      "  tavily_search (3pfvqekm0)\n",
      " Call ID: 3pfvqekm0\n",
      "  Args:\n",
      "    query: difference between langsmith and langgain\n",
      "=================================\u001b[1m Tool Message \u001b[0m=================================\n",
      "Name: tavily_search\n",
      "\n",
      "{\"query\": \"difference between langsmith and langgain\", \"follow_up_questions\": null, \"answer\": null, \"images\": [], \"results\": [{\"url\": \"https://medium.com/data-scientists-diary/langchain-vs-langsmith-1b525afd2098\", \"title\": \"Langchain vs Langsmith - Data Scientist's Diary - Medium\", \"content\": \"If you’re responsible for ensuring your AI models work in production, or you need to frequently debug and monitor your pipelines, Langsmith is your go-to tool. In short, while **Langchain** excels at managing and scaling model workflows, **Langsmith** is designed for those times when you need deep visibility and control over large, complex AI systems in production. If you’re debugging complex AI models or managing large-scale workflows with multiple moving parts, **Langsmith’s advanced debugging and orchestration features** will be indispensable. Additionally, if you’re working on **cross-platform model deployments** — say, running models on-prem and in the cloud simultaneously — Langsmith offers better orchestration and monitoring tools to handle the complexity.\", \"score\": 0.8358192, \"raw_content\": null}, {\"url\": \"https://blog.gopenai.com/langchain-vs-langsmith-understanding-the-differences-pros-and-cons-a18cff9b31f0\", \"title\": \"LangChain vs LangSmith: Understanding the Differences, Pros, and ...\", \"content\": \"LangChain vs LangSmith: Understanding the Differences, Pros, and Cons | by Ajay Verma | GoPenAI LangChain and LangSmith are two powerful tools developed by LangChain, a company focused on making it easier to build and deploy Large Language Model (LLM) applications. In this blog, we’ll delve into the differences between LangChain and LangSmith, their pros and cons, and when to use each one. Comprehensive Platform: LangSmith offers a unified platform for managing all aspects of LLM development, making it ideal for large-scale, production-ready applications. LangChain and LangSmith are two complementary tools that cater to different stages and requirements of LLM development. LangChain is ideal for early-stage prototyping and small-scale applications, while LangSmith is better suited for large-scale, production-ready applications that require advanced debugging, testing, and monitoring capabilities.\", \"score\": 0.8266142, \"raw_content\": null}, {\"url\": \"https://www.youtube.com/watch?v=ldBsvhjEREc&pp=0gcJCWIABgo59PVc\", \"title\": \"LangGraph vs LangChain vs LangFlow vs LangSmith - YouTube\", \"content\": \"LangGraph vs LangChain vs LangFlow vs LangSmith : Which One To Use & Why?\\nFuturMinds\\n8950 subscribers\\n2079 likes\\n55003 views\\n22 Aug 2024\\nAre you curious about the differences between LangChain, Langflow, Langgraph, and Langsmith? In this video, I’ll explain what is LangChain, what is Langflow, what is Langgraph, and what is Langsmith, breaking down each tool’s features, use cases, and why they were created.\\n\\nWe’ll explore what Langsmith is used for and how it integrates with LangChain for monitoring and debugging workflows. Learn how Langgraph simplifies agent management and discover the differences in Langchain vs Langgraph and Langgraph vs Langchain for building AI applications. I also cover the Langchain vs Langflow comparison, showing how Langflow’s visual interface can speed up prototyping for non-coders.\\n\\nIf you’re wondering about Langchain vs Langsmith, this video also breaks down how Langsmith helps in tracking and optimizing your applications. Whether you’re a developer or just starting with AI workflows, this video will clear up the confusion around these tools, helping you understand which one to choose for your next project.\\n\\n📌 Timestamps:\\n00:00 Intro\\n00:40 LangChain (What, Why, How)\\n03:40 LangGraph (What, Why, How)\\n05:37 LangFlow (What, Why, How)\\n07:11 LangSmith (What, Why, How)\\n14:10 What's Next?\\n74 comments\\n\", \"score\": 0.6429039, \"raw_content\": null}, {\"url\": \"https://www.youtube.com/watch?v=vJOGC8QJZJQ\", \"title\": \"LangChain vs LangGraph vs LangSmith - YouTube\", \"content\": \"LangChain vs LangGraph vs LangSmith\\ncodebasics\\n1310000 subscribers\\n234 likes\\n9419 views\\n2 Jul 2025\\nIn this video, we will understand the difference between LangChain, LangGraph and LangSmith. They are part of the same echo system serving slightly different purpose.\\n\\nLanggraph crash course: https://youtu.be/CnXdddeZ4tQ\\nLangchain crash course: https://youtu.be/nAmC7SoVLd8\\n\\nDo you want to learn technology from me? Check https://codebasics.io/?utm_source=description&utm_medium=yt&utm_campaign=description&utm_id=description for my affordable video courses.\\n\\nNeed help building software or data analytics/AI solutions? My company https://www.atliq.com/ can help. Click on the Contact button on that website.\\n\\n🎥 Codebasics Hindi channel: https://www.youtube.com/channel/UCTmFBhuhMibVoSfYom1uXEg\\n\\n#️⃣ Social Media #️⃣\\n\\n🧑‍🤝‍🧑 Discord for Community Support:  https://discord.gg/r42Kbuk\\n📸 Codebasics' Instagram: https://www.instagram.com/codebasicshub/\\n📝 Codebasics' Linkedin :  https://www.linkedin.com/company/codebasics/\\n\\n------\\n\\n📝 Dhaval's Linkedin : https://www.linkedin.com/in/dhavalsays/\\n📝 Hem's Linkedin: https://www.linkedin.com/in/hemvad/\\n\\n📽️ Hem's Instagram for daily tips: https://www.instagram.com/hemvadivel/\\n📸 Dhaval's Personal Instagram: https://www.instagram.com/dhavalsays/\\n\\n🔗 Patreon: https://www.patreon.com/codebasics?fan_landing=true\\n12 comments\\n\", \"score\": 0.6216563, \"raw_content\": null}, {\"url\": \"https://www.langchain.com/langsmith\", \"title\": \"LangSmith - LangChain\", \"content\": \"LangSmith Performance cookies are used to understand and analyze the key performance indexes of the website which helps in delivering a better user experience for the visitors. LangSmith is a unified observability & evals platform where teams can debug, test, and monitor AI app performance — whether building with LangChain or not. Evaluate your app by saving production traces to datasets — then score performance with LLM-as-Judge evaluators. LangSmith traces contain the full information of all the inputs and outputs of each step of the application, giving users full visibility into their agent or LLM app behavior. LangSmith also allows users to instantly run evals to assess agent or LLM app performance — including LLM-as-Judge evaluators for auto-scoring and the ability to attach human feedback.\", \"score\": 0.5835125, \"raw_content\": null}], \"response_time\": 1.78}\n"
     ]
    }
   ],
   "source": [
    "for msg in events['messages']:\n",
    "    msg.pretty_print()"
   ]
  }
 ],
 "metadata": {
  "kernelspec": {
   "display_name": "agnt_cht",
   "language": "python",
   "name": "python3"
  },
  "language_info": {
   "codemirror_mode": {
    "name": "ipython",
    "version": 3
   },
   "file_extension": ".py",
   "mimetype": "text/x-python",
   "name": "python",
   "nbconvert_exporter": "python",
   "pygments_lexer": "ipython3",
   "version": "3.11.0"
  }
 },
 "nbformat": 4,
 "nbformat_minor": 5
}
